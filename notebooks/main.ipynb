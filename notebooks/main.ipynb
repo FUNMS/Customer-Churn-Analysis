{
 "cells": [
  {
   "cell_type": "markdown",
   "metadata": {},
   "source": [
    "## **Customer Churn Predictor**\n"
   ]
  },
  {
   "cell_type": "markdown",
   "metadata": {},
   "source": [
    "### **Business Understanding**"
   ]
  },
  {
   "cell_type": "markdown",
   "metadata": {},
   "source": [
    "##### **Problem Statement**\n",
    "Customer retention is at the heart of most business models in their effort to increase their profit or revenue margin. Presently, most companies leverage machine learning to build classification models to perform churn analysis on their customers. The highly competitive nature of the telecommunications industry makes retaining customers extremely crucial. This project involves accessing and analyzing customer churn data from multiple sources, building a robust classification model, and helping a telecommunication company predict customer churn to improve retention strategies. The objective is to help a telecommunication company understand customer churn and its impact on profitability. \n",
    "\n",
    "##### **Goal and Objectives**\n",
    "\n",
    "•    To understand the current customer churn rate.\n",
    "\n",
    "•    To identify factors (such as demographics, usage patterns, etc.) that influence customer churn aiming to gain a deeper understanding of customer behavior\n",
    "\n",
    "•    To build a predictive machine learning model to predict customer churn for a telecommunications company to forecast which customers are likely to churn\n",
    "\n",
    "##### **Stakeholders**\n",
    "•\tCompany Executives and Management\n",
    "\n",
    "•\tData Science and Analytics Team\n",
    "\n",
    "•\tCustomer Service and Support Teams\n",
    "\n",
    "•\tMarketing and Sales and Advertisement Teams:\n",
    "\n",
    "•\tFinance \n",
    "\n",
    "•\tLegal and Compliance Team\n",
    "\n",
    "##### **Key Metrics and Success Criteria**\n",
    "\n",
    "•  Accuracy Requirement:\n",
    "\n",
    "•\tThis model must achieve an accuracy score of at least 85% when evaluated on balanced data, ensuring a high proportion of correct predictions.\n",
    "•  F1 Score Benchmark\n",
    "\n",
    "•\tModels should attain an F1 score greater than 0.80 (80%), indicating a strong balance between precision and recall, which is crucial for handling both false positives and false negatives effectively.\n",
    "\n",
    "•  ROC Curve Standard:\n",
    "\n",
    "•\tAn ROC curve with an area under the curve (AUC) of 80% is desired, demonstrating the model's ability to generalize well and maintain a good balance between sensitivity and specificity.\n",
    "\n",
    "•  Baseline Models Requirement:\n",
    "\n",
    "•\tAt least four different baseline models should be developed to serve as benchmarks. These could include logistic regression, decision trees, support vector machines, and k-nearest neighbors, providing a range of reference points for comparison.\n",
    "\n",
    "•  Hyperparameter Tuning Condition:\n",
    "\n",
    "Hyperparameter tuning will be conducted only on those baseline models that achieve an F1 score above the 0.80 threshold. This ensures that tuning efforts are concentrated on models that show initial promise and meet the performance criteria.\n",
    "\n",
    "\n",
    "##### **Hypothesis**\n",
    "\n",
    "•  Null Hypothesis (Ho): There is a significant difference in churn rates between customers who have received promotional offers and those who have not.\n",
    "\n",
    " •Alternate Hypothesis (Ha) : Customers who have not received any promotional offers in the past year have a higher churn rate.\n",
    "\n",
    "     \n",
    "\n",
    "\n",
    "\n",
    "\n",
    "##### **Analytical Questions**\n",
    "I.\tWhat are the key demographic and behavioral characteristics of customers who churn compared to those who stay, and how do these characteristics vary across different customer segments?\n",
    "\n",
    "II.\tWhat are the financial implications of churn, and how can retention strategies be optimized to maximize customer lifetime value (CLV) across different customer segments?\n",
    "\n",
    "III.\tWhich factors have the highest influence on customer churn, and how do they interact with each other?\n",
    "\n",
    "IV.\tHow do external factors such as economic conditions, competitor actions, and market trends influence customer churn rates?\n",
    "\n",
    "V.\tIs there a correlation between the customer’s payment method and churn rate?\n",
    "\n",
    "##### **Scope and Constraints**\n",
    "Some constraints of this project include, computational resources, model complexity, time limitations, stakeholder expectations, and ethical and legal considerations.\n",
    "\n",
    "##### **Additional Information**\n",
    "\n",
    "This project is to be completed in 4 weeks \n",
    "\n",
    "\n"
   ]
  },
  {
   "cell_type": "markdown",
   "metadata": {},
   "source": [
    "### **Data Understanding**"
   ]
  },
  {
   "cell_type": "code",
   "execution_count": 1,
   "metadata": {},
   "outputs": [],
   "source": [
    " #Importation of libraries \n",
    " #Data manipulation and analysis\n",
    "import pandas as pd\n",
    "import numpy as np\n",
    " \n",
    "# Database connectivity\n",
    "import pyodbc\n",
    " \n",
    "# Database ORM (optional)\n",
    "from sqlalchemy import create_engine\n",
    " \n",
    "# Data visualization\n",
    "import matplotlib.pyplot as plt\n",
    "import seaborn as sns\n",
    " \n",
    "# Machine learning \n",
    "from sklearn.model_selection import train_test_split\n",
    "from sklearn.preprocessing import StandardScaler\n",
    "from sklearn.linear_model import LogisticRegression\n",
    "from sklearn.metrics import classification_report, confusion_matrix\n",
    " \n"
   ]
  },
  {
   "cell_type": "markdown",
   "metadata": {},
   "source": [
    "#### Database connectivity"
   ]
  },
  {
   "cell_type": "code",
   "execution_count": 2,
   "metadata": {},
   "outputs": [
    {
     "name": "stderr",
     "output_type": "stream",
     "text": [
      "C:\\Users\\USER\\AppData\\Local\\Temp\\ipykernel_10268\\2421712834.py:15: UserWarning: pandas only supports SQLAlchemy connectable (engine/connection) or database string URI or sqlite3 DBAPI2 connection. Other DBAPI2 objects are not tested. Please consider using SQLAlchemy.\n",
      "  df = pd.read_sql(query, conn)\n"
     ]
    },
    {
     "name": "stdout",
     "output_type": "stream",
     "text": [
      "   customerID  gender  SeniorCitizen  Partner  Dependents  tenure  \\\n",
      "0  7590-VHVEG  Female          False     True       False       1   \n",
      "1  5575-GNVDE    Male          False    False       False      34   \n",
      "2  3668-QPYBK    Male          False    False       False       2   \n",
      "3  7795-CFOCW    Male          False    False       False      45   \n",
      "4  9237-HQITU  Female          False    False       False       2   \n",
      "\n",
      "   PhoneService MultipleLines InternetService OnlineSecurity  ...  \\\n",
      "0         False          None             DSL          False  ...   \n",
      "1          True         False             DSL           True  ...   \n",
      "2          True         False             DSL           True  ...   \n",
      "3         False          None             DSL           True  ...   \n",
      "4          True         False     Fiber optic          False  ...   \n",
      "\n",
      "  DeviceProtection TechSupport StreamingTV StreamingMovies        Contract  \\\n",
      "0            False       False       False           False  Month-to-month   \n",
      "1             True       False       False           False        One year   \n",
      "2            False       False       False           False  Month-to-month   \n",
      "3             True        True       False           False        One year   \n",
      "4            False       False       False           False  Month-to-month   \n",
      "\n",
      "  PaperlessBilling              PaymentMethod MonthlyCharges  TotalCharges  \\\n",
      "0             True           Electronic check      29.850000     29.850000   \n",
      "1            False               Mailed check      56.950001   1889.500000   \n",
      "2             True               Mailed check      53.849998    108.150002   \n",
      "3            False  Bank transfer (automatic)      42.299999   1840.750000   \n",
      "4             True           Electronic check      70.699997    151.649994   \n",
      "\n",
      "   Churn  \n",
      "0  False  \n",
      "1  False  \n",
      "2   True  \n",
      "3  False  \n",
      "4   True  \n",
      "\n",
      "[5 rows x 21 columns]\n"
     ]
    }
   ],
   "source": [
    "#Connecting to the first database\n",
    "# Now the sql query to get the data is what what you see below.\n",
    "# Define the connection string\n",
    "server = 'dap-projects-database.database.windows.net'\n",
    "database = 'dapDB'\n",
    "username = 'LP2_project'\n",
    "password = 'Stat$AndD@t@Rul3'\n",
    "conn_str = f'DRIVER={{ODBC Driver 17 for SQL Server}};SERVER={server};DATABASE={database};UID={username};PWD={password}'\n",
    "\n",
    "# Connect to the database\n",
    "conn = pyodbc.connect(conn_str)\n",
    "\n",
    "# Query the data\n",
    "query = \"SELECT * FROM dbo.LP2_Telco_churn_first_3000\"\n",
    "df = pd.read_sql(query, conn)\n",
    "\n",
    "# Close the connection\n",
    "conn.close()\n",
    "\n",
    "# Display the data\n",
    "print(df.head())\n"
   ]
  },
  {
   "cell_type": "code",
   "execution_count": 3,
   "metadata": {},
   "outputs": [
    {
     "name": "stdout",
     "output_type": "stream",
     "text": [
      "   customerID  gender  SeniorCitizen Partner Dependents  tenure PhoneService  \\\n",
      "0  5600-PDUJF    Male              0      No         No       6          Yes   \n",
      "1  8292-TYSPY    Male              0      No         No      19          Yes   \n",
      "2  0567-XRHCU  Female              0     Yes        Yes      69           No   \n",
      "3  1867-BDVFH    Male              0     Yes        Yes      11          Yes   \n",
      "4  2067-QYTCF  Female              0     Yes         No      64          Yes   \n",
      "\n",
      "      MultipleLines InternetService OnlineSecurity  ... DeviceProtection  \\\n",
      "0                No             DSL             No  ...               No   \n",
      "1                No             DSL             No  ...              Yes   \n",
      "2  No phone service             DSL            Yes  ...              Yes   \n",
      "3               Yes     Fiber optic             No  ...               No   \n",
      "4               Yes     Fiber optic             No  ...              Yes   \n",
      "\n",
      "  TechSupport StreamingTV StreamingMovies        Contract PaperlessBilling  \\\n",
      "0         Yes          No              No  Month-to-month              Yes   \n",
      "1         Yes          No              No  Month-to-month              Yes   \n",
      "2          No          No             Yes        Two year              Yes   \n",
      "3          No          No              No  Month-to-month              Yes   \n",
      "4         Yes         Yes             Yes  Month-to-month              Yes   \n",
      "\n",
      "             PaymentMethod MonthlyCharges  TotalCharges Churn  \n",
      "0  Credit card (automatic)          49.50         312.7    No  \n",
      "1  Credit card (automatic)          55.00        1046.5   Yes  \n",
      "2  Credit card (automatic)          43.95        2960.1    No  \n",
      "3         Electronic check          74.35         834.2   Yes  \n",
      "4         Electronic check         111.15        6953.4    No  \n",
      "\n",
      "[5 rows x 21 columns]\n"
     ]
    }
   ],
   "source": [
    "#Connecting to the second database\n",
    "\n",
    "# URL of the CSV file\n",
    "data2= \"https://raw.githubusercontent.com/Azubi-Africa/Career_Accelerator_LP2-Classifcation/main/LP2_Telco-churn-second-2000.csv\"\n",
    "\n",
    "# Load the dataframe from the URL\n",
    "df = pd.read_csv(data2)\n",
    "\n",
    "# Display the first few rows to verify\n",
    "print(df.head())\n"
   ]
  },
  {
   "cell_type": "code",
   "execution_count": 4,
   "metadata": {},
   "outputs": [
    {
     "name": "stdout",
     "output_type": "stream",
     "text": [
      "   customerID gender  SeniorCitizen Partner Dependents  tenure PhoneService  \\\n",
      "0  7613-LLQFO   Male              0      No         No      12          Yes   \n",
      "1  4568-TTZRT   Male              0      No         No       9          Yes   \n",
      "2  9513-DXHDA   Male              0      No         No      27          Yes   \n",
      "3  2640-PMGFL   Male              0      No        Yes      27          Yes   \n",
      "4  3801-HMYNL   Male              0     Yes        Yes       1          Yes   \n",
      "\n",
      "  MultipleLines InternetService       OnlineSecurity         OnlineBackup  \\\n",
      "0           Yes     Fiber optic                   No                   No   \n",
      "1            No              No  No internet service  No internet service   \n",
      "2            No             DSL                  Yes                   No   \n",
      "3           Yes     Fiber optic                   No                   No   \n",
      "4            No     Fiber optic                   No                   No   \n",
      "\n",
      "      DeviceProtection          TechSupport          StreamingTV  \\\n",
      "0                   No                   No                  Yes   \n",
      "1  No internet service  No internet service  No internet service   \n",
      "2                  Yes                  Yes                  Yes   \n",
      "3                   No                  Yes                   No   \n",
      "4                   No                   No                  Yes   \n",
      "\n",
      "       StreamingMovies        Contract PaperlessBilling     PaymentMethod  \\\n",
      "0                   No  Month-to-month              Yes  Electronic check   \n",
      "1  No internet service  Month-to-month               No      Mailed check   \n",
      "2                  Yes        One year               No  Electronic check   \n",
      "3                   No  Month-to-month              Yes  Electronic check   \n",
      "4                  Yes  Month-to-month               No      Mailed check   \n",
      "\n",
      "   MonthlyCharges TotalCharges  \n",
      "0           84.45      1059.55  \n",
      "1           20.40        181.8  \n",
      "2           81.70      2212.55  \n",
      "3           79.50      2180.55  \n",
      "4           89.15        89.15  \n"
     ]
    }
   ],
   "source": [
    "#Connecting to the third database\n",
    "\n",
    "# file path of the Excel file\n",
    "file_path = r\"C:\\Users\\USER\\Desktop\\Telco-churn-last-2000.xlsx\"\n",
    "\n",
    "# Load Excel file into a DataFrame\n",
    "Test_data = pd.read_excel(file_path)\n",
    "\n",
    "# Display the first few rows of the DataFrame\n",
    "print(Test_data.head())\n"
   ]
  }
 ],
 "metadata": {
  "kernelspec": {
   "display_name": "virtualenv",
   "language": "python",
   "name": "python3"
  },
  "language_info": {
   "codemirror_mode": {
    "name": "ipython",
    "version": 3
   },
   "file_extension": ".py",
   "mimetype": "text/x-python",
   "name": "python",
   "nbconvert_exporter": "python",
   "pygments_lexer": "ipython3",
   "version": "3.12.4"
  }
 },
 "nbformat": 4,
 "nbformat_minor": 2
}
